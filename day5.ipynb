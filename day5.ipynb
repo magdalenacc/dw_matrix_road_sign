{
  "nbformat": 4,
  "nbformat_minor": 0,
  "metadata": {
    "colab": {
      "name": "day5.ipynb",
      "provenance": [],
      "mount_file_id": "18eLrkpbMhNAmOJBvEWD4hKLOyQdo-ZWb",
      "authorship_tag": "ABX9TyOIhYzw9qN6l77kB2Qt4igB",
      "include_colab_link": true
    },
    "kernelspec": {
      "name": "python3",
      "display_name": "Python 3"
    },
    "accelerator": "GPU"
  },
  "cells": [
    {
      "cell_type": "markdown",
      "metadata": {
        "id": "view-in-github",
        "colab_type": "text"
      },
      "source": [
        "<a href=\"https://colab.research.google.com/github/magdalenacc/dw_matrix_road_sign/blob/master/day5.ipynb\" target=\"_parent\"><img src=\"https://colab.research.google.com/assets/colab-badge.svg\" alt=\"Open In Colab\"/></a>"
      ]
    },
    {
      "cell_type": "code",
      "metadata": {
        "id": "Pp82dirNZ3Wc",
        "colab_type": "code",
        "colab": {
          "base_uri": "https://localhost:8080/",
          "height": 178
        },
        "outputId": "b0486140-e681-43d0-c11c-5a3f15118d70"
      },
      "source": [
        "!pip install hyperopt"
      ],
      "execution_count": 1,
      "outputs": [
        {
          "output_type": "stream",
          "text": [
            "Requirement already satisfied: hyperopt in /usr/local/lib/python3.6/dist-packages (0.1.2)\n",
            "Requirement already satisfied: pymongo in /usr/local/lib/python3.6/dist-packages (from hyperopt) (3.10.1)\n",
            "Requirement already satisfied: scipy in /usr/local/lib/python3.6/dist-packages (from hyperopt) (1.4.1)\n",
            "Requirement already satisfied: future in /usr/local/lib/python3.6/dist-packages (from hyperopt) (0.16.0)\n",
            "Requirement already satisfied: numpy in /usr/local/lib/python3.6/dist-packages (from hyperopt) (1.18.2)\n",
            "Requirement already satisfied: networkx in /usr/local/lib/python3.6/dist-packages (from hyperopt) (2.4)\n",
            "Requirement already satisfied: six in /usr/local/lib/python3.6/dist-packages (from hyperopt) (1.12.0)\n",
            "Requirement already satisfied: tqdm in /usr/local/lib/python3.6/dist-packages (from hyperopt) (4.38.0)\n",
            "Requirement already satisfied: decorator>=4.3.0 in /usr/local/lib/python3.6/dist-packages (from networkx->hyperopt) (4.4.2)\n"
          ],
          "name": "stdout"
        }
      ]
    },
    {
      "cell_type": "code",
      "metadata": {
        "id": "AgwJ4as-a4CZ",
        "colab_type": "code",
        "colab": {
          "base_uri": "https://localhost:8080/",
          "height": 53
        },
        "outputId": "792f7cbb-5293-4594-abb3-a4da975d17ad"
      },
      "source": [
        "import pandas as pd\n",
        "import numpy as np\n",
        "import os\n",
        "import datetime\n",
        "\n",
        "import tensorflow as tf\n",
        "from tensorflow.keras.models import Sequential\n",
        "from tensorflow.keras.layers import Conv2D, MaxPool2D, Dense, Flatten, Dropout\n",
        "from tensorflow.keras.utils import to_categorical\n",
        "\n",
        "%load_ext tensorboard\n",
        "\n",
        "import matplotlib.pyplot as plt\n",
        "from skimage import color, exposure\n",
        "\n",
        "from sklearn.metrics import accuracy_score\n",
        "\n",
        "from hyperopt import hp, STATUS_OK, tpe, Trials, fmin"
      ],
      "execution_count": 17,
      "outputs": [
        {
          "output_type": "stream",
          "text": [
            "The tensorboard extension is already loaded. To reload it, use:\n",
            "  %reload_ext tensorboard\n"
          ],
          "name": "stdout"
        }
      ]
    },
    {
      "cell_type": "code",
      "metadata": {
        "id": "3CEb78qTbEuY",
        "colab_type": "code",
        "colab": {
          "base_uri": "https://localhost:8080/",
          "height": 35
        },
        "outputId": "44c17bf1-3609-4900-db6a-a68341ced92c"
      },
      "source": [
        "cd '/content/drive/My Drive/Colab Notebooks/matrix/matrix_three'"
      ],
      "execution_count": 2,
      "outputs": [
        {
          "output_type": "stream",
          "text": [
            "/content/drive/My Drive/Colab Notebooks/matrix/matrix_three\n"
          ],
          "name": "stdout"
        }
      ]
    },
    {
      "cell_type": "code",
      "metadata": {
        "id": "h_cOkn04bHjY",
        "colab_type": "code",
        "colab": {}
      },
      "source": [
        "train = pd.read_pickle('data/train.p')\n",
        "test = pd.read_pickle('data/test.p')\n",
        "\n",
        "X_train, y_train = train['features'], train['labels']\n",
        "X_test, y_test = test['features'], test['labels']"
      ],
      "execution_count": 0,
      "outputs": []
    },
    {
      "cell_type": "code",
      "metadata": {
        "id": "mgUzu-IwbKeE",
        "colab_type": "code",
        "colab": {}
      },
      "source": [
        "if y_train.ndim == 1: y_train = to_categorical(y_train)\n",
        "if y_test.ndim == 1: y_test = to_categorical(y_test)"
      ],
      "execution_count": 0,
      "outputs": []
    },
    {
      "cell_type": "code",
      "metadata": {
        "id": "2Lll9xccbNvR",
        "colab_type": "code",
        "colab": {}
      },
      "source": [
        "input_shape = X_train.shape[1:]\n",
        "num_classes = y_train.shape[1]"
      ],
      "execution_count": 0,
      "outputs": []
    },
    {
      "cell_type": "code",
      "metadata": {
        "id": "nhFzjr0JbQ3A",
        "colab_type": "code",
        "colab": {}
      },
      "source": [
        "def train_model(model, X_train, y_train, params_fit={}):\n",
        "  model.compile(loss = 'categorical_crossentropy', \n",
        "              optimizer = 'Adam',\n",
        "              metrics = ['accuracy'])\n",
        "  \n",
        "  logdir = os.path.join('logs', datetime.datetime.now()\n",
        "  .strftime(\"%Y%m%d-%H%M%S\"))\n",
        "  tensorboard_callback = tf.keras.callbacks.TensorBoard(logdir, histogram_freq=1)\n",
        "\n",
        "  model.fit(X_train,\n",
        "            y_train,\n",
        "            batch_size = params_fit.get('batch_size', 128),\n",
        "            epochs = params_fit.get('epochs',5),\n",
        "            verbose = params_fit.get('verbose', 1),\n",
        "            validation_data=params_fit.get('validation_data', \n",
        "                                           (X_train, y_train)),\n",
        "            callbacks = [tensorboard_callback]\n",
        "\n",
        "            )\n",
        "  return model"
      ],
      "execution_count": 0,
      "outputs": []
    },
    {
      "cell_type": "code",
      "metadata": {
        "id": "iTfDvzmgbQrz",
        "colab_type": "code",
        "colab": {}
      },
      "source": [
        "def predict(model_trained, X_test, y_test, scoring = accuracy_score):\n",
        "  y_test_norm = np.argmax(y_test, axis =1 )\n",
        "  y_pred_prob = model_trained.predict(X_test)\n",
        "  y_pred = np.argmax(y_pred_prob, axis = 1)\n",
        "\n",
        "  return scoring(y_test_norm, y_pred)"
      ],
      "execution_count": 0,
      "outputs": []
    },
    {
      "cell_type": "code",
      "metadata": {
        "id": "aZwVfMUtbawY",
        "colab_type": "code",
        "colab": {}
      },
      "source": [
        "def get_cnn_v5(input_shape, num_classes ):\n",
        "  return Sequential([\n",
        "  Conv2D(filters = 32, kernel_size = (3,3), activation='relu',\n",
        "         input_shape = input_shape),\n",
        "  Conv2D(filters = 32, kernel_size = (3,3), activation='relu',\n",
        "         padding='same'),        \n",
        "  MaxPool2D(),\n",
        "  Dropout(0.3),\n",
        "\n",
        "  Conv2D(filters = 64, kernel_size = (3,3), activation='relu', padding='same'),\n",
        "  Conv2D(filters = 64, kernel_size = (3,3), activation='relu'),\n",
        "  MaxPool2D(),\n",
        "  Dropout(0.3),\n",
        "\n",
        "  Conv2D(filters = 64, kernel_size = (3,3), activation='relu', padding='same'),\n",
        "  Conv2D(filters = 64, kernel_size = (3,3), activation='relu'),\n",
        "  MaxPool2D(),\n",
        "  Dropout(0.3),\n",
        "\n",
        "  Flatten(),   \n",
        "  Dense(1024, activation='relu'),\n",
        "  Dropout(0.3),\n",
        "  Dense(1024, activation='relu'),\n",
        "  Dropout(0.3),\n",
        "\n",
        "  Dense(num_classes, activation='softmax'),                \n",
        "])\n"
      ],
      "execution_count": 0,
      "outputs": []
    },
    {
      "cell_type": "code",
      "metadata": {
        "id": "4EP8f5gUbnPL",
        "colab_type": "code",
        "colab": {
          "base_uri": "https://localhost:8080/",
          "height": 214
        },
        "outputId": "b8b1e4f3-bf2a-4905-98c2-e077cac6c4f6"
      },
      "source": [
        "model = get_cnn_v5(input_shape, num_classes)\n",
        "model_trained = train_model(model, X_train, y_train)\n",
        "predict(model_trained, X_test, y_test)"
      ],
      "execution_count": 9,
      "outputs": [
        {
          "output_type": "stream",
          "text": [
            "Epoch 1/5\n",
            "272/272 [==============================] - 5s 17ms/step - loss: 2.7039 - accuracy: 0.2776 - val_loss: 0.8306 - val_accuracy: 0.7364\n",
            "Epoch 2/5\n",
            "272/272 [==============================] - 4s 15ms/step - loss: 0.7386 - accuracy: 0.7694 - val_loss: 0.2021 - val_accuracy: 0.9403\n",
            "Epoch 3/5\n",
            "272/272 [==============================] - 4s 15ms/step - loss: 0.3694 - accuracy: 0.8847 - val_loss: 0.0853 - val_accuracy: 0.9744\n",
            "Epoch 4/5\n",
            "272/272 [==============================] - 4s 15ms/step - loss: 0.2540 - accuracy: 0.9234 - val_loss: 0.0687 - val_accuracy: 0.9805\n",
            "Epoch 5/5\n",
            "272/272 [==============================] - 4s 15ms/step - loss: 0.1768 - accuracy: 0.9474 - val_loss: 0.0387 - val_accuracy: 0.9879\n"
          ],
          "name": "stdout"
        },
        {
          "output_type": "execute_result",
          "data": {
            "text/plain": [
              "0.9680272108843537"
            ]
          },
          "metadata": {
            "tags": []
          },
          "execution_count": 9
        }
      ]
    },
    {
      "cell_type": "code",
      "metadata": {
        "id": "sk44DqyCdHwB",
        "colab_type": "code",
        "colab": {
          "base_uri": "https://localhost:8080/",
          "height": 53
        },
        "outputId": "8f0025d9-9cdf-475d-bf6d-fc5fef6bfa84"
      },
      "source": [
        "model_trained.evaluate(X_test, y_test)"
      ],
      "execution_count": 10,
      "outputs": [
        {
          "output_type": "stream",
          "text": [
            "138/138 [==============================] - 0s 4ms/step - loss: 0.1313 - accuracy: 0.9680\n"
          ],
          "name": "stdout"
        },
        {
          "output_type": "execute_result",
          "data": {
            "text/plain": [
              "[0.1313130408525467, 0.9680272340774536]"
            ]
          },
          "metadata": {
            "tags": []
          },
          "execution_count": 10
        }
      ]
    },
    {
      "cell_type": "code",
      "metadata": {
        "id": "Bgc2JMMe0YS-",
        "colab_type": "code",
        "colab": {}
      },
      "source": [
        "def get_model(params ):\n",
        "  return Sequential([\n",
        "  Conv2D(filters = 32, kernel_size = (3,3), activation='relu',\n",
        "         input_shape = input_shape),\n",
        "  Conv2D(filters = 32, kernel_size = (3,3), activation='relu',\n",
        "         padding='same'),        \n",
        "  MaxPool2D(),\n",
        "  Dropout(params['dropout_cnn_block_one']),\n",
        "\n",
        "  Conv2D(filters = 64, kernel_size = (3,3), activation='relu', padding='same'),\n",
        "  Conv2D(filters = 64, kernel_size = (3,3), activation='relu'),\n",
        "  MaxPool2D(),\n",
        "  Dropout(params['dropout_cnn_block_two']),\n",
        "\n",
        "  Conv2D(filters = 128, kernel_size = (3,3), activation='relu', padding='same'),\n",
        "  Conv2D(filters = 128, kernel_size = (3,3), activation='relu'),\n",
        "  MaxPool2D(),\n",
        "  Dropout(params['dropout_cnn_block_three']),\n",
        "\n",
        "  Flatten(),   \n",
        "  Dense(1024, activation='relu'),\n",
        "  Dropout(params['dropout_dense_block_one']),\n",
        "  Dense(1024, activation='relu'),\n",
        "  Dropout(params['dropout_dense_block_two']),\n",
        "\n",
        "  Dense(num_classes, activation='softmax'),                \n",
        "])"
      ],
      "execution_count": 0,
      "outputs": []
    },
    {
      "cell_type": "code",
      "metadata": {
        "id": "Ip-a5R5Ob5Gn",
        "colab_type": "code",
        "colab": {}
      },
      "source": [
        "def func_obj(params):\n",
        "  model = get_model(params)\n",
        "  model.compile(loss = 'categorical_crossentropy', \n",
        "              optimizer = 'Adam',\n",
        "              metrics = ['accuracy'])\n",
        "  \n",
        "\n",
        "  model.fit(X_train,\n",
        "            y_train,\n",
        "            batch_size = int(params.get('batch_size', 128)),\n",
        "            epochs = 5,\n",
        "            verbose = 0,\n",
        "            )\n",
        "  score = model.evaluate(X_test, y_test, verbose= 0)\n",
        "  accuracy = score[1]\n",
        "  print(params, 'accuracy={}'.format( accuracy))\n",
        "  return {'loss': -accuracy, 'status': STATUS_OK, 'model': model}"
      ],
      "execution_count": 0,
      "outputs": []
    },
    {
      "cell_type": "code",
      "metadata": {
        "id": "HxlWf_n1x3U9",
        "colab_type": "code",
        "colab": {
          "base_uri": "https://localhost:8080/",
          "height": 948
        },
        "outputId": "54235038-818e-4341-ff88-b348cb7b98ff"
      },
      "source": [
        "space={\n",
        "    'batch_size': hp.quniform('batch_size', 100, 200,10),\n",
        "    'dropout_cnn_block_one': hp.uniform('dropout_cnn_block_one', 0.3, 0.5),\n",
        "    'dropout_cnn_block_two': hp.uniform('dropout_cnn_block_two', 0.3, 0.5),\n",
        "    'dropout_cnn_block_three': hp.uniform('dropout_cnn_block_three', 0.3, 0.5),\n",
        "    'dropout_dense_block_one': hp.uniform('dropout_dense_block_one', 0.3, 0.7),\n",
        "    'dropout_dense_block_two': hp.uniform('dropout_dense_block_two', 0.3, 0.7),\n",
        "\n",
        "\n",
        "}\n",
        "\n",
        "best = fmin(\n",
        "    func_obj,\n",
        "    space,\n",
        "    tpe.suggest,\n",
        "    25,\n",
        "    Trials()\n",
        ")"
      ],
      "execution_count": 34,
      "outputs": [
        {
          "output_type": "stream",
          "text": [
            "{'batch_size': 190.0, 'dropout_cnn_block_one': 0.381595309675514, 'dropout_cnn_block_three': 0.37555042053091636, 'dropout_cnn_block_two': 0.32727783930046406, 'dropout_dense_block_one': 0.34558624413662575, 'dropout_dense_block_two': 0.4081001687421748}\n",
            "accuracy=0.9492063522338867\n",
            "{'batch_size': 190.0, 'dropout_cnn_block_one': 0.43831078928685563, 'dropout_cnn_block_three': 0.36445836028142203, 'dropout_cnn_block_two': 0.41695259188177336, 'dropout_dense_block_one': 0.616348543886317, 'dropout_dense_block_two': 0.4328658792859707}\n",
            "accuracy=0.9369614720344543\n",
            "{'batch_size': 170.0, 'dropout_cnn_block_one': 0.4106036897974073, 'dropout_cnn_block_three': 0.3277833832693585, 'dropout_cnn_block_two': 0.3585959374979007, 'dropout_dense_block_one': 0.4645441769523926, 'dropout_dense_block_two': 0.5453427981840591}\n",
            "accuracy=0.9566893577575684\n",
            "{'batch_size': 160.0, 'dropout_cnn_block_one': 0.3769209565713976, 'dropout_cnn_block_three': 0.39609512749478437, 'dropout_cnn_block_two': 0.3370269153097246, 'dropout_dense_block_one': 0.4519329789138625, 'dropout_dense_block_two': 0.35612264251201703}\n",
            "accuracy=0.9589568972587585\n",
            "{'batch_size': 170.0, 'dropout_cnn_block_one': 0.43370842661201425, 'dropout_cnn_block_three': 0.36844154343166624, 'dropout_cnn_block_two': 0.360432302363778, 'dropout_dense_block_one': 0.35386055260008864, 'dropout_dense_block_two': 0.6222653250540544}\n",
            "accuracy=0.9471655488014221\n",
            "{'batch_size': 140.0, 'dropout_cnn_block_one': 0.34871698456508304, 'dropout_cnn_block_three': 0.3929013137897594, 'dropout_cnn_block_two': 0.40454365298611683, 'dropout_dense_block_one': 0.3040370738346776, 'dropout_dense_block_two': 0.456539924956447}\n",
            "accuracy=0.9539682269096375\n",
            "{'batch_size': 160.0, 'dropout_cnn_block_one': 0.4680713374559614, 'dropout_cnn_block_three': 0.4524574462185312, 'dropout_cnn_block_two': 0.3351877699243689, 'dropout_dense_block_one': 0.5725947556168112, 'dropout_dense_block_two': 0.40128472346416927}\n",
            "accuracy=0.921088457107544\n",
            "{'batch_size': 140.0, 'dropout_cnn_block_one': 0.3786758883024482, 'dropout_cnn_block_three': 0.4579635316192009, 'dropout_cnn_block_two': 0.4204613907893643, 'dropout_dense_block_one': 0.6673494853217539, 'dropout_dense_block_two': 0.4329739994793795}\n",
            "accuracy=0.8281179070472717\n",
            "{'batch_size': 190.0, 'dropout_cnn_block_one': 0.3000055437228076, 'dropout_cnn_block_three': 0.45860252547952557, 'dropout_cnn_block_two': 0.4638835033285563, 'dropout_dense_block_one': 0.34006480693710617, 'dropout_dense_block_two': 0.3960088245957302}\n",
            "accuracy=0.9333333373069763\n",
            "{'batch_size': 130.0, 'dropout_cnn_block_one': 0.43162975034888523, 'dropout_cnn_block_three': 0.4847567912403784, 'dropout_cnn_block_two': 0.4881761546788323, 'dropout_dense_block_one': 0.6789917357675334, 'dropout_dense_block_two': 0.38056794832645274}\n",
            "accuracy=0.8451247215270996\n",
            "{'batch_size': 150.0, 'dropout_cnn_block_one': 0.46179472206582134, 'dropout_cnn_block_three': 0.4332317372025018, 'dropout_cnn_block_two': 0.3478025095697654, 'dropout_dense_block_one': 0.41950896539110305, 'dropout_dense_block_two': 0.38629456192675804}\n",
            "accuracy=0.956462562084198\n",
            "{'batch_size': 160.0, 'dropout_cnn_block_one': 0.3416797286753083, 'dropout_cnn_block_three': 0.3795422948973548, 'dropout_cnn_block_two': 0.3031097887173552, 'dropout_dense_block_one': 0.39603368672240125, 'dropout_dense_block_two': 0.367833344100599}\n",
            "accuracy=0.962358295917511\n",
            "{'batch_size': 170.0, 'dropout_cnn_block_one': 0.4291733574413268, 'dropout_cnn_block_three': 0.4587577133582315, 'dropout_cnn_block_two': 0.39337050629923775, 'dropout_dense_block_one': 0.5577611878102735, 'dropout_dense_block_two': 0.33423322516599796}\n",
            "accuracy=0.9124716520309448\n",
            "{'batch_size': 130.0, 'dropout_cnn_block_one': 0.4135435909951447, 'dropout_cnn_block_three': 0.3840275904541939, 'dropout_cnn_block_two': 0.4283829461652561, 'dropout_dense_block_one': 0.3503366396821353, 'dropout_dense_block_two': 0.4161742204925104}\n",
            "accuracy=0.8913832306861877\n",
            "{'batch_size': 130.0, 'dropout_cnn_block_one': 0.36298731880022256, 'dropout_cnn_block_three': 0.3762478578414768, 'dropout_cnn_block_two': 0.39453321395955354, 'dropout_dense_block_one': 0.6084966531660514, 'dropout_dense_block_two': 0.6144402794975314}\n",
            "accuracy=0.9387755393981934\n",
            "{'batch_size': 160.0, 'dropout_cnn_block_one': 0.4876735202061244, 'dropout_cnn_block_three': 0.4888321484669627, 'dropout_cnn_block_two': 0.44106948204432217, 'dropout_dense_block_one': 0.3638885043973077, 'dropout_dense_block_two': 0.3142219268524387}\n",
            "accuracy=0.9251700639724731\n",
            "{'batch_size': 140.0, 'dropout_cnn_block_one': 0.30131807489602247, 'dropout_cnn_block_three': 0.3294518305323197, 'dropout_cnn_block_two': 0.3925496191742567, 'dropout_dense_block_one': 0.4532223713548381, 'dropout_dense_block_two': 0.3840637179541122}\n",
            "accuracy=0.9233559966087341\n",
            "{'batch_size': 170.0, 'dropout_cnn_block_one': 0.38398185652739775, 'dropout_cnn_block_three': 0.49789095875611816, 'dropout_cnn_block_two': 0.3281967483861314, 'dropout_dense_block_one': 0.3423303671172823, 'dropout_dense_block_two': 0.3247068769143052}\n",
            "accuracy=0.9571428298950195\n",
            "{'batch_size': 150.0, 'dropout_cnn_block_one': 0.33418550037740824, 'dropout_cnn_block_three': 0.4560886427600288, 'dropout_cnn_block_two': 0.41834046645559064, 'dropout_dense_block_one': 0.5328047154197874, 'dropout_dense_block_two': 0.31016044974056944}\n",
            "accuracy=0.9553288221359253\n",
            "{'batch_size': 120.0, 'dropout_cnn_block_one': 0.3070544804393357, 'dropout_cnn_block_three': 0.3391747195403528, 'dropout_cnn_block_two': 0.3299339096798157, 'dropout_dense_block_one': 0.33841871514439137, 'dropout_dense_block_two': 0.6611032831881131}\n",
            "accuracy=0.978458046913147\n",
            "{'batch_size': 100.0, 'dropout_cnn_block_one': 0.32109026055328627, 'dropout_cnn_block_three': 0.3034334340793575, 'dropout_cnn_block_two': 0.30382698896260746, 'dropout_dense_block_one': 0.4052911452668543, 'dropout_dense_block_two': 0.6613190704933594}\n",
            "accuracy=0.962358295917511\n",
            "{'batch_size': 100.0, 'dropout_cnn_block_one': 0.3201471883732876, 'dropout_cnn_block_three': 0.3001619553220081, 'dropout_cnn_block_two': 0.30093921511895366, 'dropout_dense_block_one': 0.30258292030931744, 'dropout_dense_block_two': 0.6972013377055024}\n",
            "accuracy=0.9639455676078796\n",
            "{'batch_size': 100.0, 'dropout_cnn_block_one': 0.3198371484065186, 'dropout_cnn_block_three': 0.305885377232344, 'dropout_cnn_block_two': 0.3129002813241303, 'dropout_dense_block_one': 0.30612010321570793, 'dropout_dense_block_two': 0.6993036136852854}\n",
            "accuracy=0.9709750413894653\n",
            "{'batch_size': 110.0, 'dropout_cnn_block_one': 0.3121773948307667, 'dropout_cnn_block_three': 0.34021121873046695, 'dropout_cnn_block_two': 0.3685926724504087, 'dropout_dense_block_one': 0.30418514047318246, 'dropout_dense_block_two': 0.5526745734291174}\n",
            "accuracy=0.9727891087532043\n",
            "{'batch_size': 110.0, 'dropout_cnn_block_one': 0.3023201825751471, 'dropout_cnn_block_three': 0.3273711146664892, 'dropout_cnn_block_two': 0.37413592344434393, 'dropout_dense_block_one': 0.5003927035551949, 'dropout_dense_block_two': 0.5267336222905931}\n",
            "accuracy=0.9523809552192688\n",
            "100%|██████████| 25/25 [04:53<00:00, 11.76s/it, best loss: -0.978458046913147]\n"
          ],
          "name": "stdout"
        }
      ]
    }
  ]
}